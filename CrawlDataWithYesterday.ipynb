{
 "cells": [
  {
   "cell_type": "code",
   "execution_count": 1,
<<<<<<< HEAD
=======
   "id": "motivated-fortune",
>>>>>>> aa330eb2828d711e07c010040f06a0b9058ecdf3
   "metadata": {},
   "outputs": [],
   "source": [
    "\"\"\"\n",
    "@author: sheepb\n",
    "\"\"\"\n",
    "\n",
    "from selenium import webdriver\n",
    "import pandas as pd\n",
    "import numpy as np\n",
    "from datetime import date, timedelta\n",
    "import re \n",
    "\n",
    "driver = webdriver.Chrome('/usr/bin/chromedriver')\n",
    "driver.get('https://www.worldometers.info/coronavirus/')\n",
    "\n",
    "# --- Get click on navigator Yesterday --- \n",
    "\n",
    "# scrolling on page\n",
    "driver.execute_script(\"window.scrollTo(0, document.body.scrollHeight*1/5);\")\n",
    "\n",
    "# find tag and get click\n",
    "nav_yesterday = driver.find_element_by_id('nav-yesterday-tab')\n",
    "nav_yesterday.click()\n",
    "\n",
    "\n",
    "# --- Get data table ---\n",
    "\n",
    "table_tag = driver.find_element_by_id(\"main_table_countries_yesterday\")\n",
    "\n",
    "colnames_tag = table_tag.find_element_by_tag_name('thead').find_elements_by_tag_name('th')\n",
    "\n",
    "columns = []\n",
    "for col in colnames_tag:\n",
    "    columns.append(col.text)\n",
    "    \n",
    "tbody_tag = table_tag.find_element_by_tag_name('tbody')     \n",
    "lines = tbody_tag.find_elements_by_tag_name('tr')\n",
    "\n",
    "data = []\n",
    "\n",
    "for line in lines:\n",
    "    if line.text == '':\n",
    "        continue\n",
    "        \n",
    "    row = []\n",
    "    for l in line.find_elements_by_tag_name('td'):\n",
    "        row.append(l.text)\n",
    "    data.append(row)\n",
    "\n",
    "# PREPROCESSING\n",
    "df = pd.DataFrame(np.array(data), columns=columns)\n",
    "temp_df = pd.read_csv('temp_df.csv')\n",
    "\n",
    "df['Continent'] = temp_df['Continent']\n",
    "df.drop(['#', ''], axis=1, inplace=True)\n",
    "df.drop(0, axis=0, inplace=True)\n",
    "df.reset_index()\n",
    "\n",
    "dict_rename = {column: column.replace('\\n', '') for column in df.columns}\n",
    "df.rename(columns=dict_rename,inplace=True) \n",
    "\n",
    "cate_cols = ['Country,Other','Continent']\n",
    "numberic_cols = df.columns.difference(cate_cols)\n",
    "df[numberic_cols] = df[numberic_cols].apply\\\n",
    "    (lambda x: x.str.replace(re.compile(r'[+.,]'), '').replace('',np.nan)).fillna('0').astype('int64')\n",
    "\n",
    "df[cate_cols] = df[cate_cols].fillna('Ship')\n",
    "\n",
    "# TO CSV\n",
    "today = date.today()\n",
    "date = today - timedelta(1)\n",
    "df.to_csv('Data_get_bu_yesterdayCrawl/%s.csv'% str(date))\n",
    "driver.close()"
   ]
  },
  {
   "cell_type": "code",
   "execution_count": null,
<<<<<<< HEAD
=======
   "id": "guided-worth",
>>>>>>> aa330eb2828d711e07c010040f06a0b9058ecdf3
   "metadata": {},
   "outputs": [],
   "source": []
  }
 ],
 "metadata": {
  "kernelspec": {
   "display_name": "Python 3",
   "language": "python",
   "name": "python3"
  },
  "language_info": {
   "codemirror_mode": {
    "name": "ipython",
    "version": 3
   },
   "file_extension": ".py",
   "mimetype": "text/x-python",
   "name": "python",
   "nbconvert_exporter": "python",
   "pygments_lexer": "ipython3",
   "version": "3.8.3"
  }
 },
 "nbformat": 4,
 "nbformat_minor": 5
}
