{
 "cells": [
  {
   "cell_type": "code",
   "execution_count": 1,
   "metadata": {},
   "outputs": [],
   "source": [
    "import pandas as pd\n",
    "from datetime import datetime"
   ]
  },
  {
   "cell_type": "code",
   "execution_count": 2,
   "metadata": {},
   "outputs": [],
   "source": [
    "list_data=['2021-05-12_copy','2021-05-13_copy','2021-05-14_copy','2021-05-15_copy','2021-05-16_copy','2021-05-17_copy','2021-05-18_copy']\n",
    "list_day=['2021-05-12','2021-05-13','2021-05-14','2021-05-15','2021-05-16','2021-05-17','2021-05-18']\n",
    "list_df=[]\n",
    "for i in range(len(list_data)):\n",
    "    data = pd.read_csv('%s.csv'%list_data[i],index_col=0)\n",
    "    data['Date']=datetime.strptime(list_day[i],\"%Y-%m-%d\")\n",
    "    list_df.append(data)\n",
    "full_data=pd.concat(list_df)\n",
    "full_data.to_csv('full_data_12-18_05_2021.csv')"
   ]
  },
  {
   "cell_type": "code",
   "execution_count": null,
   "metadata": {},
   "outputs": [],
   "source": []
  }
 ],
 "metadata": {
  "kernelspec": {
   "display_name": "Python 3",
   "language": "python",
   "name": "python3"
  },
  "language_info": {
   "codemirror_mode": {
    "name": "ipython",
    "version": 3
   },
   "file_extension": ".py",
   "mimetype": "text/x-python",
   "name": "python",
   "nbconvert_exporter": "python",
   "pygments_lexer": "ipython3",
   "version": "3.8.3"
  }
 },
 "nbformat": 4,
 "nbformat_minor": 4
}
